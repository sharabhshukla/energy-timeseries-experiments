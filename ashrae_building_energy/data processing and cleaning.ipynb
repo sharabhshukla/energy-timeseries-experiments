{
 "cells": [
  {
   "cell_type": "code",
   "execution_count": 60,
   "metadata": {
    "collapsed": true
   },
   "outputs": [],
   "source": [
    "import numpy as np\n",
    "import pandas as pd\n",
    "import plotly.express as px"
   ]
  },
  {
   "cell_type": "code",
   "execution_count": 61,
   "outputs": [],
   "source": [
    "building_meta = pd.read_csv('../data/ashrae-energy-prediction/building_metadata.csv')\n",
    "train_weather_data = pd.read_csv('../data/ashrae-energy-prediction/weather_train.csv')\n",
    "test_weather_data = pd.read_csv('../data/ashrae-energy-prediction/weather_train.csv')"
   ],
   "metadata": {
    "collapsed": false,
    "pycharm": {
     "name": "#%%\n"
    }
   }
  },
  {
   "cell_type": "code",
   "execution_count": 62,
   "outputs": [],
   "source": [
    "site_id_1_data = building_meta[building_meta.site_id == 1]"
   ],
   "metadata": {
    "collapsed": false,
    "pycharm": {
     "name": "#%%\n"
    }
   }
  },
  {
   "cell_type": "code",
   "execution_count": 63,
   "outputs": [
    {
     "data": {
      "text/plain": "     site_id  building_id                    primary_use  square_feet  \\\n105        1          105                      Education        50623   \n106        1          106                      Education         5374   \n107        1          107                      Education        97532   \n108        1          108                      Education        81580   \n109        1          109                      Education        56995   \n110        1          110                      Education        27814   \n111        1          111                      Education       118338   \n112        1          112                      Education        32206   \n113        1          113                      Education       100481   \n114        1          114                      Education       139683   \n115        1          115                      Education       129716   \n116        1          116                      Education        37265   \n117        1          117                      Education        15489   \n118        1          118                      Education       138316   \n119        1          119                      Education        91149   \n120        1          120                      Education        68211   \n121        1          121                      Education       150318   \n122        1          122                      Education        83043   \n123        1          123                      Education        61204   \n124        1          124                      Education        38319   \n125        1          125                      Education        16802   \n126        1          126                      Education        21539   \n127        1          127            Lodging/residential        27071   \n128        1          128            Lodging/residential       102774   \n129        1          129            Lodging/residential       102957   \n130        1          130            Lodging/residential        62893   \n131        1          131            Lodging/residential        66661   \n132        1          132            Lodging/residential        83108   \n133        1          133            Lodging/residential        64723   \n134        1          134            Lodging/residential        49589   \n135        1          135            Lodging/residential        66532   \n136        1          136            Lodging/residential        56467   \n137        1          137  Entertainment/public assembly        64024   \n138        1          138                Public services       118231   \n139        1          139                Public services        56629   \n140        1          140                         Office        50020   \n141        1          141                         Office        44789   \n142        1          142                         Office        45348   \n143        1          143                         Office        40085   \n144        1          144                         Office        57673   \n145        1          145                         Office        14219   \n146        1          146                         Office        31614   \n147        1          147                         Office        82548   \n148        1          148                         Office       174601   \n149        1          149                         Office        81881   \n150        1          150                         Office        65657   \n151        1          151                         Office        30495   \n152        1          152                         Office        10301   \n153        1          153                         Office        16092   \n154        1          154                         Office        34455   \n155        1          155                         Office        51688   \n\n     year_built  floor_count  \n105         NaN          5.0  \n106         NaN          4.0  \n107      2005.0         10.0  \n108      1913.0          5.0  \n109      1953.0          6.0  \n110      2006.0          8.0  \n111      1909.0          7.0  \n112         NaN          6.0  \n113      1958.0          9.0  \n114      1958.0         13.0  \n115      1968.0          6.0  \n116         NaN          5.0  \n117      2004.0          4.0  \n118      1960.0          8.0  \n119      2007.0          7.0  \n120      1976.0          7.0  \n121      1906.0          9.0  \n122      1991.0          6.0  \n123      1989.0          6.0  \n124      1900.0          6.0  \n125      1995.0          6.0  \n126      2004.0          5.0  \n127         NaN          6.0  \n128      1956.0          7.0  \n129      1968.0          7.0  \n130      1960.0         16.0  \n131      1930.0          7.0  \n132      1995.0          8.0  \n133      1960.0          8.0  \n134      1998.0          8.0  \n135      1967.0         10.0  \n136      1960.0          9.0  \n137      1967.0          6.0  \n138         NaN          6.0  \n139      1900.0          6.0  \n140         NaN         11.0  \n141      1919.0          5.0  \n142         NaN          4.0  \n143         NaN          4.0  \n144         NaN          5.0  \n145         NaN          4.0  \n146      1956.0          8.0  \n147      1977.0          7.0  \n148      1960.0         12.0  \n149      1960.0          8.0  \n150      1955.0          8.0  \n151      1997.0          8.0  \n152      1970.0          2.0  \n153      1965.0          3.0  \n154      1907.0          8.0  \n155      1930.0          8.0  ",
      "text/html": "<div>\n<style scoped>\n    .dataframe tbody tr th:only-of-type {\n        vertical-align: middle;\n    }\n\n    .dataframe tbody tr th {\n        vertical-align: top;\n    }\n\n    .dataframe thead th {\n        text-align: right;\n    }\n</style>\n<table border=\"1\" class=\"dataframe\">\n  <thead>\n    <tr style=\"text-align: right;\">\n      <th></th>\n      <th>site_id</th>\n      <th>building_id</th>\n      <th>primary_use</th>\n      <th>square_feet</th>\n      <th>year_built</th>\n      <th>floor_count</th>\n    </tr>\n  </thead>\n  <tbody>\n    <tr>\n      <th>105</th>\n      <td>1</td>\n      <td>105</td>\n      <td>Education</td>\n      <td>50623</td>\n      <td>NaN</td>\n      <td>5.0</td>\n    </tr>\n    <tr>\n      <th>106</th>\n      <td>1</td>\n      <td>106</td>\n      <td>Education</td>\n      <td>5374</td>\n      <td>NaN</td>\n      <td>4.0</td>\n    </tr>\n    <tr>\n      <th>107</th>\n      <td>1</td>\n      <td>107</td>\n      <td>Education</td>\n      <td>97532</td>\n      <td>2005.0</td>\n      <td>10.0</td>\n    </tr>\n    <tr>\n      <th>108</th>\n      <td>1</td>\n      <td>108</td>\n      <td>Education</td>\n      <td>81580</td>\n      <td>1913.0</td>\n      <td>5.0</td>\n    </tr>\n    <tr>\n      <th>109</th>\n      <td>1</td>\n      <td>109</td>\n      <td>Education</td>\n      <td>56995</td>\n      <td>1953.0</td>\n      <td>6.0</td>\n    </tr>\n    <tr>\n      <th>110</th>\n      <td>1</td>\n      <td>110</td>\n      <td>Education</td>\n      <td>27814</td>\n      <td>2006.0</td>\n      <td>8.0</td>\n    </tr>\n    <tr>\n      <th>111</th>\n      <td>1</td>\n      <td>111</td>\n      <td>Education</td>\n      <td>118338</td>\n      <td>1909.0</td>\n      <td>7.0</td>\n    </tr>\n    <tr>\n      <th>112</th>\n      <td>1</td>\n      <td>112</td>\n      <td>Education</td>\n      <td>32206</td>\n      <td>NaN</td>\n      <td>6.0</td>\n    </tr>\n    <tr>\n      <th>113</th>\n      <td>1</td>\n      <td>113</td>\n      <td>Education</td>\n      <td>100481</td>\n      <td>1958.0</td>\n      <td>9.0</td>\n    </tr>\n    <tr>\n      <th>114</th>\n      <td>1</td>\n      <td>114</td>\n      <td>Education</td>\n      <td>139683</td>\n      <td>1958.0</td>\n      <td>13.0</td>\n    </tr>\n    <tr>\n      <th>115</th>\n      <td>1</td>\n      <td>115</td>\n      <td>Education</td>\n      <td>129716</td>\n      <td>1968.0</td>\n      <td>6.0</td>\n    </tr>\n    <tr>\n      <th>116</th>\n      <td>1</td>\n      <td>116</td>\n      <td>Education</td>\n      <td>37265</td>\n      <td>NaN</td>\n      <td>5.0</td>\n    </tr>\n    <tr>\n      <th>117</th>\n      <td>1</td>\n      <td>117</td>\n      <td>Education</td>\n      <td>15489</td>\n      <td>2004.0</td>\n      <td>4.0</td>\n    </tr>\n    <tr>\n      <th>118</th>\n      <td>1</td>\n      <td>118</td>\n      <td>Education</td>\n      <td>138316</td>\n      <td>1960.0</td>\n      <td>8.0</td>\n    </tr>\n    <tr>\n      <th>119</th>\n      <td>1</td>\n      <td>119</td>\n      <td>Education</td>\n      <td>91149</td>\n      <td>2007.0</td>\n      <td>7.0</td>\n    </tr>\n    <tr>\n      <th>120</th>\n      <td>1</td>\n      <td>120</td>\n      <td>Education</td>\n      <td>68211</td>\n      <td>1976.0</td>\n      <td>7.0</td>\n    </tr>\n    <tr>\n      <th>121</th>\n      <td>1</td>\n      <td>121</td>\n      <td>Education</td>\n      <td>150318</td>\n      <td>1906.0</td>\n      <td>9.0</td>\n    </tr>\n    <tr>\n      <th>122</th>\n      <td>1</td>\n      <td>122</td>\n      <td>Education</td>\n      <td>83043</td>\n      <td>1991.0</td>\n      <td>6.0</td>\n    </tr>\n    <tr>\n      <th>123</th>\n      <td>1</td>\n      <td>123</td>\n      <td>Education</td>\n      <td>61204</td>\n      <td>1989.0</td>\n      <td>6.0</td>\n    </tr>\n    <tr>\n      <th>124</th>\n      <td>1</td>\n      <td>124</td>\n      <td>Education</td>\n      <td>38319</td>\n      <td>1900.0</td>\n      <td>6.0</td>\n    </tr>\n    <tr>\n      <th>125</th>\n      <td>1</td>\n      <td>125</td>\n      <td>Education</td>\n      <td>16802</td>\n      <td>1995.0</td>\n      <td>6.0</td>\n    </tr>\n    <tr>\n      <th>126</th>\n      <td>1</td>\n      <td>126</td>\n      <td>Education</td>\n      <td>21539</td>\n      <td>2004.0</td>\n      <td>5.0</td>\n    </tr>\n    <tr>\n      <th>127</th>\n      <td>1</td>\n      <td>127</td>\n      <td>Lodging/residential</td>\n      <td>27071</td>\n      <td>NaN</td>\n      <td>6.0</td>\n    </tr>\n    <tr>\n      <th>128</th>\n      <td>1</td>\n      <td>128</td>\n      <td>Lodging/residential</td>\n      <td>102774</td>\n      <td>1956.0</td>\n      <td>7.0</td>\n    </tr>\n    <tr>\n      <th>129</th>\n      <td>1</td>\n      <td>129</td>\n      <td>Lodging/residential</td>\n      <td>102957</td>\n      <td>1968.0</td>\n      <td>7.0</td>\n    </tr>\n    <tr>\n      <th>130</th>\n      <td>1</td>\n      <td>130</td>\n      <td>Lodging/residential</td>\n      <td>62893</td>\n      <td>1960.0</td>\n      <td>16.0</td>\n    </tr>\n    <tr>\n      <th>131</th>\n      <td>1</td>\n      <td>131</td>\n      <td>Lodging/residential</td>\n      <td>66661</td>\n      <td>1930.0</td>\n      <td>7.0</td>\n    </tr>\n    <tr>\n      <th>132</th>\n      <td>1</td>\n      <td>132</td>\n      <td>Lodging/residential</td>\n      <td>83108</td>\n      <td>1995.0</td>\n      <td>8.0</td>\n    </tr>\n    <tr>\n      <th>133</th>\n      <td>1</td>\n      <td>133</td>\n      <td>Lodging/residential</td>\n      <td>64723</td>\n      <td>1960.0</td>\n      <td>8.0</td>\n    </tr>\n    <tr>\n      <th>134</th>\n      <td>1</td>\n      <td>134</td>\n      <td>Lodging/residential</td>\n      <td>49589</td>\n      <td>1998.0</td>\n      <td>8.0</td>\n    </tr>\n    <tr>\n      <th>135</th>\n      <td>1</td>\n      <td>135</td>\n      <td>Lodging/residential</td>\n      <td>66532</td>\n      <td>1967.0</td>\n      <td>10.0</td>\n    </tr>\n    <tr>\n      <th>136</th>\n      <td>1</td>\n      <td>136</td>\n      <td>Lodging/residential</td>\n      <td>56467</td>\n      <td>1960.0</td>\n      <td>9.0</td>\n    </tr>\n    <tr>\n      <th>137</th>\n      <td>1</td>\n      <td>137</td>\n      <td>Entertainment/public assembly</td>\n      <td>64024</td>\n      <td>1967.0</td>\n      <td>6.0</td>\n    </tr>\n    <tr>\n      <th>138</th>\n      <td>1</td>\n      <td>138</td>\n      <td>Public services</td>\n      <td>118231</td>\n      <td>NaN</td>\n      <td>6.0</td>\n    </tr>\n    <tr>\n      <th>139</th>\n      <td>1</td>\n      <td>139</td>\n      <td>Public services</td>\n      <td>56629</td>\n      <td>1900.0</td>\n      <td>6.0</td>\n    </tr>\n    <tr>\n      <th>140</th>\n      <td>1</td>\n      <td>140</td>\n      <td>Office</td>\n      <td>50020</td>\n      <td>NaN</td>\n      <td>11.0</td>\n    </tr>\n    <tr>\n      <th>141</th>\n      <td>1</td>\n      <td>141</td>\n      <td>Office</td>\n      <td>44789</td>\n      <td>1919.0</td>\n      <td>5.0</td>\n    </tr>\n    <tr>\n      <th>142</th>\n      <td>1</td>\n      <td>142</td>\n      <td>Office</td>\n      <td>45348</td>\n      <td>NaN</td>\n      <td>4.0</td>\n    </tr>\n    <tr>\n      <th>143</th>\n      <td>1</td>\n      <td>143</td>\n      <td>Office</td>\n      <td>40085</td>\n      <td>NaN</td>\n      <td>4.0</td>\n    </tr>\n    <tr>\n      <th>144</th>\n      <td>1</td>\n      <td>144</td>\n      <td>Office</td>\n      <td>57673</td>\n      <td>NaN</td>\n      <td>5.0</td>\n    </tr>\n    <tr>\n      <th>145</th>\n      <td>1</td>\n      <td>145</td>\n      <td>Office</td>\n      <td>14219</td>\n      <td>NaN</td>\n      <td>4.0</td>\n    </tr>\n    <tr>\n      <th>146</th>\n      <td>1</td>\n      <td>146</td>\n      <td>Office</td>\n      <td>31614</td>\n      <td>1956.0</td>\n      <td>8.0</td>\n    </tr>\n    <tr>\n      <th>147</th>\n      <td>1</td>\n      <td>147</td>\n      <td>Office</td>\n      <td>82548</td>\n      <td>1977.0</td>\n      <td>7.0</td>\n    </tr>\n    <tr>\n      <th>148</th>\n      <td>1</td>\n      <td>148</td>\n      <td>Office</td>\n      <td>174601</td>\n      <td>1960.0</td>\n      <td>12.0</td>\n    </tr>\n    <tr>\n      <th>149</th>\n      <td>1</td>\n      <td>149</td>\n      <td>Office</td>\n      <td>81881</td>\n      <td>1960.0</td>\n      <td>8.0</td>\n    </tr>\n    <tr>\n      <th>150</th>\n      <td>1</td>\n      <td>150</td>\n      <td>Office</td>\n      <td>65657</td>\n      <td>1955.0</td>\n      <td>8.0</td>\n    </tr>\n    <tr>\n      <th>151</th>\n      <td>1</td>\n      <td>151</td>\n      <td>Office</td>\n      <td>30495</td>\n      <td>1997.0</td>\n      <td>8.0</td>\n    </tr>\n    <tr>\n      <th>152</th>\n      <td>1</td>\n      <td>152</td>\n      <td>Office</td>\n      <td>10301</td>\n      <td>1970.0</td>\n      <td>2.0</td>\n    </tr>\n    <tr>\n      <th>153</th>\n      <td>1</td>\n      <td>153</td>\n      <td>Office</td>\n      <td>16092</td>\n      <td>1965.0</td>\n      <td>3.0</td>\n    </tr>\n    <tr>\n      <th>154</th>\n      <td>1</td>\n      <td>154</td>\n      <td>Office</td>\n      <td>34455</td>\n      <td>1907.0</td>\n      <td>8.0</td>\n    </tr>\n    <tr>\n      <th>155</th>\n      <td>1</td>\n      <td>155</td>\n      <td>Office</td>\n      <td>51688</td>\n      <td>1930.0</td>\n      <td>8.0</td>\n    </tr>\n  </tbody>\n</table>\n</div>"
     },
     "execution_count": 63,
     "metadata": {},
     "output_type": "execute_result"
    }
   ],
   "source": [
    "site_id_1_data"
   ],
   "metadata": {
    "collapsed": false,
    "pycharm": {
     "name": "#%%\n"
    }
   }
  },
  {
   "cell_type": "code",
   "execution_count": 64,
   "outputs": [],
   "source": [
    "load_data_train = pd.read_csv('../data/ashrae-energy-prediction/train.csv')"
   ],
   "metadata": {
    "collapsed": false,
    "pycharm": {
     "name": "#%%\n"
    }
   }
  },
  {
   "cell_type": "code",
   "execution_count": 65,
   "outputs": [],
   "source": [
    "load_data_site_1 = load_data_train[load_data_train['building_id'].isin(site_id_1_data.building_id)]"
   ],
   "metadata": {
    "collapsed": false,
    "pycharm": {
     "name": "#%%\n"
    }
   }
  },
  {
   "cell_type": "code",
   "execution_count": 66,
   "outputs": [
    {
     "data": {
      "text/plain": "     building_id  meter            timestamp  meter_reading\n103          105      0  2016-01-01 00:00:00        23.3036\n104          106      0  2016-01-01 00:00:00         0.3746\n105          106      3  2016-01-01 00:00:00         0.0000\n106          107      0  2016-01-01 00:00:00       175.1840\n107          108      0  2016-01-01 00:00:00        91.2653",
      "text/html": "<div>\n<style scoped>\n    .dataframe tbody tr th:only-of-type {\n        vertical-align: middle;\n    }\n\n    .dataframe tbody tr th {\n        vertical-align: top;\n    }\n\n    .dataframe thead th {\n        text-align: right;\n    }\n</style>\n<table border=\"1\" class=\"dataframe\">\n  <thead>\n    <tr style=\"text-align: right;\">\n      <th></th>\n      <th>building_id</th>\n      <th>meter</th>\n      <th>timestamp</th>\n      <th>meter_reading</th>\n    </tr>\n  </thead>\n  <tbody>\n    <tr>\n      <th>103</th>\n      <td>105</td>\n      <td>0</td>\n      <td>2016-01-01 00:00:00</td>\n      <td>23.3036</td>\n    </tr>\n    <tr>\n      <th>104</th>\n      <td>106</td>\n      <td>0</td>\n      <td>2016-01-01 00:00:00</td>\n      <td>0.3746</td>\n    </tr>\n    <tr>\n      <th>105</th>\n      <td>106</td>\n      <td>3</td>\n      <td>2016-01-01 00:00:00</td>\n      <td>0.0000</td>\n    </tr>\n    <tr>\n      <th>106</th>\n      <td>107</td>\n      <td>0</td>\n      <td>2016-01-01 00:00:00</td>\n      <td>175.1840</td>\n    </tr>\n    <tr>\n      <th>107</th>\n      <td>108</td>\n      <td>0</td>\n      <td>2016-01-01 00:00:00</td>\n      <td>91.2653</td>\n    </tr>\n  </tbody>\n</table>\n</div>"
     },
     "execution_count": 66,
     "metadata": {},
     "output_type": "execute_result"
    }
   ],
   "source": [
    "load_data_site_1.head()"
   ],
   "metadata": {
    "collapsed": false,
    "pycharm": {
     "name": "#%%\n"
    }
   }
  },
  {
   "cell_type": "code",
   "execution_count": 67,
   "outputs": [],
   "source": [
    "site_id_1_load_ts = load_data_site_1.groupby(by=['timestamp'])['meter_reading'].sum()"
   ],
   "metadata": {
    "collapsed": false,
    "pycharm": {
     "name": "#%%\n"
    }
   }
  },
  {
   "cell_type": "code",
   "execution_count": 68,
   "outputs": [
    {
     "data": {
      "text/plain": "timestamp\n2016-01-01 00:00:00    4154.2543\n2016-01-01 01:00:00    8337.2696\n2016-01-01 02:00:00    8317.9158\n2016-01-01 03:00:00    8392.4680\n2016-01-01 04:00:00    8109.9117\nName: meter_reading, dtype: float64"
     },
     "execution_count": 68,
     "metadata": {},
     "output_type": "execute_result"
    }
   ],
   "source": [
    "site_id_1_load_ts.head()"
   ],
   "metadata": {
    "collapsed": false,
    "pycharm": {
     "name": "#%%\n"
    }
   }
  },
  {
   "cell_type": "code",
   "execution_count": 69,
   "outputs": [
    {
     "data": {
      "text/plain": "   site_id            timestamp  air_temperature  cloud_coverage  \\\n0        0  2016-01-01 00:00:00             25.0             6.0   \n1        0  2016-01-01 01:00:00             24.4             NaN   \n2        0  2016-01-01 02:00:00             22.8             2.0   \n3        0  2016-01-01 03:00:00             21.1             2.0   \n4        0  2016-01-01 04:00:00             20.0             2.0   \n\n   dew_temperature  precip_depth_1_hr  sea_level_pressure  wind_direction  \\\n0             20.0                NaN              1019.7             0.0   \n1             21.1               -1.0              1020.2            70.0   \n2             21.1                0.0              1020.2             0.0   \n3             20.6                0.0              1020.1             0.0   \n4             20.0               -1.0              1020.0           250.0   \n\n   wind_speed  \n0         0.0  \n1         1.5  \n2         0.0  \n3         0.0  \n4         2.6  ",
      "text/html": "<div>\n<style scoped>\n    .dataframe tbody tr th:only-of-type {\n        vertical-align: middle;\n    }\n\n    .dataframe tbody tr th {\n        vertical-align: top;\n    }\n\n    .dataframe thead th {\n        text-align: right;\n    }\n</style>\n<table border=\"1\" class=\"dataframe\">\n  <thead>\n    <tr style=\"text-align: right;\">\n      <th></th>\n      <th>site_id</th>\n      <th>timestamp</th>\n      <th>air_temperature</th>\n      <th>cloud_coverage</th>\n      <th>dew_temperature</th>\n      <th>precip_depth_1_hr</th>\n      <th>sea_level_pressure</th>\n      <th>wind_direction</th>\n      <th>wind_speed</th>\n    </tr>\n  </thead>\n  <tbody>\n    <tr>\n      <th>0</th>\n      <td>0</td>\n      <td>2016-01-01 00:00:00</td>\n      <td>25.0</td>\n      <td>6.0</td>\n      <td>20.0</td>\n      <td>NaN</td>\n      <td>1019.7</td>\n      <td>0.0</td>\n      <td>0.0</td>\n    </tr>\n    <tr>\n      <th>1</th>\n      <td>0</td>\n      <td>2016-01-01 01:00:00</td>\n      <td>24.4</td>\n      <td>NaN</td>\n      <td>21.1</td>\n      <td>-1.0</td>\n      <td>1020.2</td>\n      <td>70.0</td>\n      <td>1.5</td>\n    </tr>\n    <tr>\n      <th>2</th>\n      <td>0</td>\n      <td>2016-01-01 02:00:00</td>\n      <td>22.8</td>\n      <td>2.0</td>\n      <td>21.1</td>\n      <td>0.0</td>\n      <td>1020.2</td>\n      <td>0.0</td>\n      <td>0.0</td>\n    </tr>\n    <tr>\n      <th>3</th>\n      <td>0</td>\n      <td>2016-01-01 03:00:00</td>\n      <td>21.1</td>\n      <td>2.0</td>\n      <td>20.6</td>\n      <td>0.0</td>\n      <td>1020.1</td>\n      <td>0.0</td>\n      <td>0.0</td>\n    </tr>\n    <tr>\n      <th>4</th>\n      <td>0</td>\n      <td>2016-01-01 04:00:00</td>\n      <td>20.0</td>\n      <td>2.0</td>\n      <td>20.0</td>\n      <td>-1.0</td>\n      <td>1020.0</td>\n      <td>250.0</td>\n      <td>2.6</td>\n    </tr>\n  </tbody>\n</table>\n</div>"
     },
     "execution_count": 69,
     "metadata": {},
     "output_type": "execute_result"
    }
   ],
   "source": [
    "train_weather_data.head()"
   ],
   "metadata": {
    "collapsed": false,
    "pycharm": {
     "name": "#%%\n"
    }
   }
  },
  {
   "cell_type": "code",
   "execution_count": 70,
   "outputs": [
    {
     "data": {
      "text/plain": "                timestamp  air_temperature  cloud_coverage  dew_temperature  \\\n8784  2016-01-01 00:00:00              3.8             NaN              2.4   \n8785  2016-01-01 01:00:00              3.7             0.0              2.4   \n8786  2016-01-01 02:00:00              2.6             0.0              1.9   \n8787  2016-01-01 03:00:00              2.0             0.0              1.2   \n8788  2016-01-01 04:00:00              2.3             0.0              1.8   \n\n      precip_depth_1_hr  sea_level_pressure  wind_direction  wind_speed  \n8784                NaN              1020.9           240.0         3.1  \n8785                NaN              1021.6           230.0         2.6  \n8786                NaN              1021.9             0.0         0.0  \n8787                NaN              1022.3           170.0         1.5  \n8788                NaN              1022.7           110.0         1.5  ",
      "text/html": "<div>\n<style scoped>\n    .dataframe tbody tr th:only-of-type {\n        vertical-align: middle;\n    }\n\n    .dataframe tbody tr th {\n        vertical-align: top;\n    }\n\n    .dataframe thead th {\n        text-align: right;\n    }\n</style>\n<table border=\"1\" class=\"dataframe\">\n  <thead>\n    <tr style=\"text-align: right;\">\n      <th></th>\n      <th>timestamp</th>\n      <th>air_temperature</th>\n      <th>cloud_coverage</th>\n      <th>dew_temperature</th>\n      <th>precip_depth_1_hr</th>\n      <th>sea_level_pressure</th>\n      <th>wind_direction</th>\n      <th>wind_speed</th>\n    </tr>\n  </thead>\n  <tbody>\n    <tr>\n      <th>8784</th>\n      <td>2016-01-01 00:00:00</td>\n      <td>3.8</td>\n      <td>NaN</td>\n      <td>2.4</td>\n      <td>NaN</td>\n      <td>1020.9</td>\n      <td>240.0</td>\n      <td>3.1</td>\n    </tr>\n    <tr>\n      <th>8785</th>\n      <td>2016-01-01 01:00:00</td>\n      <td>3.7</td>\n      <td>0.0</td>\n      <td>2.4</td>\n      <td>NaN</td>\n      <td>1021.6</td>\n      <td>230.0</td>\n      <td>2.6</td>\n    </tr>\n    <tr>\n      <th>8786</th>\n      <td>2016-01-01 02:00:00</td>\n      <td>2.6</td>\n      <td>0.0</td>\n      <td>1.9</td>\n      <td>NaN</td>\n      <td>1021.9</td>\n      <td>0.0</td>\n      <td>0.0</td>\n    </tr>\n    <tr>\n      <th>8787</th>\n      <td>2016-01-01 03:00:00</td>\n      <td>2.0</td>\n      <td>0.0</td>\n      <td>1.2</td>\n      <td>NaN</td>\n      <td>1022.3</td>\n      <td>170.0</td>\n      <td>1.5</td>\n    </tr>\n    <tr>\n      <th>8788</th>\n      <td>2016-01-01 04:00:00</td>\n      <td>2.3</td>\n      <td>0.0</td>\n      <td>1.8</td>\n      <td>NaN</td>\n      <td>1022.7</td>\n      <td>110.0</td>\n      <td>1.5</td>\n    </tr>\n  </tbody>\n</table>\n</div>"
     },
     "execution_count": 70,
     "metadata": {},
     "output_type": "execute_result"
    }
   ],
   "source": [
    "train_weather_site_1 = train_weather_data[train_weather_data.site_id == 1].drop(columns='site_id',axis=1)\n",
    "train_weather_site_1.head()"
   ],
   "metadata": {
    "collapsed": false,
    "pycharm": {
     "name": "#%%\n"
    }
   }
  },
  {
   "cell_type": "code",
   "execution_count": 71,
   "outputs": [],
   "source": [
    "#need to merge the two datasets together\n",
    "#site_id_1_load_ts.head()\n",
    "#train_weather_data\n",
    "site_id_1_dataset_complete = pd.merge(left=site_id_1_load_ts, right=train_weather_site_1, on='timestamp', how='outer')"
   ],
   "metadata": {
    "collapsed": false,
    "pycharm": {
     "name": "#%%\n"
    }
   }
  },
  {
   "cell_type": "code",
   "execution_count": 72,
   "outputs": [],
   "source": [
    "site_id_1_dataset_complete.to_csv('site_id_1.csv', index=False)"
   ],
   "metadata": {
    "collapsed": false,
    "pycharm": {
     "name": "#%%\n"
    }
   }
  },
  {
   "cell_type": "code",
   "execution_count": 73,
   "outputs": [
    {
     "data": {
      "text/plain": "                timestamp  meter_reading  air_temperature  cloud_coverage  \\\n0     2016-01-01 00:00:00      4154.2543              3.8             NaN   \n1     2016-01-01 01:00:00      8337.2696              3.7             0.0   \n2     2016-01-01 02:00:00      8317.9158              2.6             0.0   \n3     2016-01-01 03:00:00      8392.4680              2.0             0.0   \n4     2016-01-01 04:00:00      8109.9117              2.3             0.0   \n...                   ...            ...              ...             ...   \n8779  2016-12-31 19:00:00      8136.1761              8.1             NaN   \n8780  2016-12-31 20:00:00      7905.7564              7.2             NaN   \n8781  2016-12-31 21:00:00      7849.5850              6.9             NaN   \n8782  2016-12-31 22:00:00      7991.8790              6.9             NaN   \n8783  2016-12-31 23:00:00      7712.0313              7.5             NaN   \n\n      dew_temperature  precip_depth_1_hr  sea_level_pressure  wind_direction  \\\n0                 2.4                NaN              1020.9           240.0   \n1                 2.4                NaN              1021.6           230.0   \n2                 1.9                NaN              1021.9             0.0   \n3                 1.2                NaN              1022.3           170.0   \n4                 1.8                NaN              1022.7           110.0   \n...               ...                ...                 ...             ...   \n8779              6.5                NaN              1027.5           220.0   \n8780              6.1                NaN              1026.9           220.0   \n8781              5.8                NaN              1026.2           220.0   \n8782              6.2                NaN              1025.4           190.0   \n8783              6.5                NaN              1024.7           210.0   \n\n      wind_speed  \n0            3.1  \n1            2.6  \n2            0.0  \n3            1.5  \n4            1.5  \n...          ...  \n8779         3.6  \n8780         4.1  \n8781         4.6  \n8782         3.1  \n8783         5.7  \n\n[8784 rows x 9 columns]",
      "text/html": "<div>\n<style scoped>\n    .dataframe tbody tr th:only-of-type {\n        vertical-align: middle;\n    }\n\n    .dataframe tbody tr th {\n        vertical-align: top;\n    }\n\n    .dataframe thead th {\n        text-align: right;\n    }\n</style>\n<table border=\"1\" class=\"dataframe\">\n  <thead>\n    <tr style=\"text-align: right;\">\n      <th></th>\n      <th>timestamp</th>\n      <th>meter_reading</th>\n      <th>air_temperature</th>\n      <th>cloud_coverage</th>\n      <th>dew_temperature</th>\n      <th>precip_depth_1_hr</th>\n      <th>sea_level_pressure</th>\n      <th>wind_direction</th>\n      <th>wind_speed</th>\n    </tr>\n  </thead>\n  <tbody>\n    <tr>\n      <th>0</th>\n      <td>2016-01-01 00:00:00</td>\n      <td>4154.2543</td>\n      <td>3.8</td>\n      <td>NaN</td>\n      <td>2.4</td>\n      <td>NaN</td>\n      <td>1020.9</td>\n      <td>240.0</td>\n      <td>3.1</td>\n    </tr>\n    <tr>\n      <th>1</th>\n      <td>2016-01-01 01:00:00</td>\n      <td>8337.2696</td>\n      <td>3.7</td>\n      <td>0.0</td>\n      <td>2.4</td>\n      <td>NaN</td>\n      <td>1021.6</td>\n      <td>230.0</td>\n      <td>2.6</td>\n    </tr>\n    <tr>\n      <th>2</th>\n      <td>2016-01-01 02:00:00</td>\n      <td>8317.9158</td>\n      <td>2.6</td>\n      <td>0.0</td>\n      <td>1.9</td>\n      <td>NaN</td>\n      <td>1021.9</td>\n      <td>0.0</td>\n      <td>0.0</td>\n    </tr>\n    <tr>\n      <th>3</th>\n      <td>2016-01-01 03:00:00</td>\n      <td>8392.4680</td>\n      <td>2.0</td>\n      <td>0.0</td>\n      <td>1.2</td>\n      <td>NaN</td>\n      <td>1022.3</td>\n      <td>170.0</td>\n      <td>1.5</td>\n    </tr>\n    <tr>\n      <th>4</th>\n      <td>2016-01-01 04:00:00</td>\n      <td>8109.9117</td>\n      <td>2.3</td>\n      <td>0.0</td>\n      <td>1.8</td>\n      <td>NaN</td>\n      <td>1022.7</td>\n      <td>110.0</td>\n      <td>1.5</td>\n    </tr>\n    <tr>\n      <th>...</th>\n      <td>...</td>\n      <td>...</td>\n      <td>...</td>\n      <td>...</td>\n      <td>...</td>\n      <td>...</td>\n      <td>...</td>\n      <td>...</td>\n      <td>...</td>\n    </tr>\n    <tr>\n      <th>8779</th>\n      <td>2016-12-31 19:00:00</td>\n      <td>8136.1761</td>\n      <td>8.1</td>\n      <td>NaN</td>\n      <td>6.5</td>\n      <td>NaN</td>\n      <td>1027.5</td>\n      <td>220.0</td>\n      <td>3.6</td>\n    </tr>\n    <tr>\n      <th>8780</th>\n      <td>2016-12-31 20:00:00</td>\n      <td>7905.7564</td>\n      <td>7.2</td>\n      <td>NaN</td>\n      <td>6.1</td>\n      <td>NaN</td>\n      <td>1026.9</td>\n      <td>220.0</td>\n      <td>4.1</td>\n    </tr>\n    <tr>\n      <th>8781</th>\n      <td>2016-12-31 21:00:00</td>\n      <td>7849.5850</td>\n      <td>6.9</td>\n      <td>NaN</td>\n      <td>5.8</td>\n      <td>NaN</td>\n      <td>1026.2</td>\n      <td>220.0</td>\n      <td>4.6</td>\n    </tr>\n    <tr>\n      <th>8782</th>\n      <td>2016-12-31 22:00:00</td>\n      <td>7991.8790</td>\n      <td>6.9</td>\n      <td>NaN</td>\n      <td>6.2</td>\n      <td>NaN</td>\n      <td>1025.4</td>\n      <td>190.0</td>\n      <td>3.1</td>\n    </tr>\n    <tr>\n      <th>8783</th>\n      <td>2016-12-31 23:00:00</td>\n      <td>7712.0313</td>\n      <td>7.5</td>\n      <td>NaN</td>\n      <td>6.5</td>\n      <td>NaN</td>\n      <td>1024.7</td>\n      <td>210.0</td>\n      <td>5.7</td>\n    </tr>\n  </tbody>\n</table>\n<p>8784 rows × 9 columns</p>\n</div>"
     },
     "execution_count": 73,
     "metadata": {},
     "output_type": "execute_result"
    }
   ],
   "source": [
    "site_id_1_dataset_complete"
   ],
   "metadata": {
    "collapsed": false,
    "pycharm": {
     "name": "#%%\n"
    }
   }
  },
  {
   "cell_type": "code",
   "execution_count": 74,
   "outputs": [
    {
     "data": {
      "text/plain": "timestamp             0.000000\nmeter_reading         0.000000\nair_temperature       0.002505\ncloud_coverage        0.806352\ndew_temperature       0.002505\nprecip_depth_1_hr     1.000000\nsea_level_pressure    0.008311\nwind_direction        0.002732\nwind_speed            0.002391\ndtype: float64"
     },
     "execution_count": 74,
     "metadata": {},
     "output_type": "execute_result"
    }
   ],
   "source": [
    "site_id_1_dataset_complete.isnull().mean()"
   ],
   "metadata": {
    "collapsed": false,
    "pycharm": {
     "name": "#%%\n"
    }
   }
  },
  {
   "cell_type": "code",
   "execution_count": 75,
   "outputs": [],
   "source": [
    "#Since precip_depth_1_hr is\n",
    "site_id_1_dataset_complete.drop(columns=['precip_depth_1_hr'],axis=1, inplace=True)"
   ],
   "metadata": {
    "collapsed": false,
    "pycharm": {
     "name": "#%%\n"
    }
   }
  },
  {
   "cell_type": "code",
   "execution_count": 76,
   "outputs": [],
   "source": [
    "site_id_1_dataset_complete.to_csv('site_id_1.csv', index=False)"
   ],
   "metadata": {
    "collapsed": false,
    "pycharm": {
     "name": "#%%\n"
    }
   }
  },
  {
   "cell_type": "code",
   "execution_count": 76,
   "outputs": [],
   "source": [],
   "metadata": {
    "collapsed": false,
    "pycharm": {
     "name": "#%%\n"
    }
   }
  },
  {
   "cell_type": "code",
   "execution_count": null,
   "outputs": [],
   "source": [],
   "metadata": {
    "collapsed": false,
    "pycharm": {
     "name": "#%%\n"
    }
   }
  }
 ],
 "metadata": {
  "kernelspec": {
   "display_name": "Python 3",
   "language": "python",
   "name": "python3"
  },
  "language_info": {
   "codemirror_mode": {
    "name": "ipython",
    "version": 2
   },
   "file_extension": ".py",
   "mimetype": "text/x-python",
   "name": "python",
   "nbconvert_exporter": "python",
   "pygments_lexer": "ipython2",
   "version": "2.7.6"
  }
 },
 "nbformat": 4,
 "nbformat_minor": 0
}